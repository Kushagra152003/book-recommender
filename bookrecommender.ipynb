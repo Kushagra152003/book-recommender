{
  "nbformat": 4,
  "nbformat_minor": 0,
  "metadata": {
    "colab": {
      "provenance": [],
      "gpuType": "T4"
    },
    "kernelspec": {
      "name": "python3",
      "display_name": "Python 3"
    },
    "language_info": {
      "name": "python"
    }
  },
  "cells": [
    {
      "cell_type": "code",
      "source": [
        "!pip install scikit-learn\n",
        "!pip install pandas\n",
        "!pip install numpy\n",
        "!pip install matplotlib\n",
        "!pip install seaborn"
      ],
      "metadata": {
        "colab": {
          "base_uri": "https://localhost:8080/"
        },
        "id": "tLBMKvTIgZHG",
        "outputId": "a7a3b98d-5cbb-4e57-871d-94019838e907"
      },
      "execution_count": 1,
      "outputs": [
        {
          "output_type": "stream",
          "name": "stdout",
          "text": [
            "Requirement already satisfied: scikit-learn in /usr/local/lib/python3.10/dist-packages (1.3.2)\n",
            "Requirement already satisfied: numpy<2.0,>=1.17.3 in /usr/local/lib/python3.10/dist-packages (from scikit-learn) (1.26.4)\n",
            "Requirement already satisfied: scipy>=1.5.0 in /usr/local/lib/python3.10/dist-packages (from scikit-learn) (1.13.1)\n",
            "Requirement already satisfied: joblib>=1.1.1 in /usr/local/lib/python3.10/dist-packages (from scikit-learn) (1.4.2)\n",
            "Requirement already satisfied: threadpoolctl>=2.0.0 in /usr/local/lib/python3.10/dist-packages (from scikit-learn) (3.5.0)\n",
            "Requirement already satisfied: pandas in /usr/local/lib/python3.10/dist-packages (2.1.4)\n",
            "Requirement already satisfied: numpy<2,>=1.22.4 in /usr/local/lib/python3.10/dist-packages (from pandas) (1.26.4)\n",
            "Requirement already satisfied: python-dateutil>=2.8.2 in /usr/local/lib/python3.10/dist-packages (from pandas) (2.8.2)\n",
            "Requirement already satisfied: pytz>=2020.1 in /usr/local/lib/python3.10/dist-packages (from pandas) (2024.1)\n",
            "Requirement already satisfied: tzdata>=2022.1 in /usr/local/lib/python3.10/dist-packages (from pandas) (2024.1)\n",
            "Requirement already satisfied: six>=1.5 in /usr/local/lib/python3.10/dist-packages (from python-dateutil>=2.8.2->pandas) (1.16.0)\n",
            "Requirement already satisfied: numpy in /usr/local/lib/python3.10/dist-packages (1.26.4)\n",
            "Requirement already satisfied: matplotlib in /usr/local/lib/python3.10/dist-packages (3.7.1)\n",
            "Requirement already satisfied: contourpy>=1.0.1 in /usr/local/lib/python3.10/dist-packages (from matplotlib) (1.2.1)\n",
            "Requirement already satisfied: cycler>=0.10 in /usr/local/lib/python3.10/dist-packages (from matplotlib) (0.12.1)\n",
            "Requirement already satisfied: fonttools>=4.22.0 in /usr/local/lib/python3.10/dist-packages (from matplotlib) (4.53.1)\n",
            "Requirement already satisfied: kiwisolver>=1.0.1 in /usr/local/lib/python3.10/dist-packages (from matplotlib) (1.4.5)\n",
            "Requirement already satisfied: numpy>=1.20 in /usr/local/lib/python3.10/dist-packages (from matplotlib) (1.26.4)\n",
            "Requirement already satisfied: packaging>=20.0 in /usr/local/lib/python3.10/dist-packages (from matplotlib) (24.1)\n",
            "Requirement already satisfied: pillow>=6.2.0 in /usr/local/lib/python3.10/dist-packages (from matplotlib) (9.4.0)\n",
            "Requirement already satisfied: pyparsing>=2.3.1 in /usr/local/lib/python3.10/dist-packages (from matplotlib) (3.1.2)\n",
            "Requirement already satisfied: python-dateutil>=2.7 in /usr/local/lib/python3.10/dist-packages (from matplotlib) (2.8.2)\n",
            "Requirement already satisfied: six>=1.5 in /usr/local/lib/python3.10/dist-packages (from python-dateutil>=2.7->matplotlib) (1.16.0)\n",
            "Requirement already satisfied: seaborn in /usr/local/lib/python3.10/dist-packages (0.13.1)\n",
            "Requirement already satisfied: numpy!=1.24.0,>=1.20 in /usr/local/lib/python3.10/dist-packages (from seaborn) (1.26.4)\n",
            "Requirement already satisfied: pandas>=1.2 in /usr/local/lib/python3.10/dist-packages (from seaborn) (2.1.4)\n",
            "Requirement already satisfied: matplotlib!=3.6.1,>=3.4 in /usr/local/lib/python3.10/dist-packages (from seaborn) (3.7.1)\n",
            "Requirement already satisfied: contourpy>=1.0.1 in /usr/local/lib/python3.10/dist-packages (from matplotlib!=3.6.1,>=3.4->seaborn) (1.2.1)\n",
            "Requirement already satisfied: cycler>=0.10 in /usr/local/lib/python3.10/dist-packages (from matplotlib!=3.6.1,>=3.4->seaborn) (0.12.1)\n",
            "Requirement already satisfied: fonttools>=4.22.0 in /usr/local/lib/python3.10/dist-packages (from matplotlib!=3.6.1,>=3.4->seaborn) (4.53.1)\n",
            "Requirement already satisfied: kiwisolver>=1.0.1 in /usr/local/lib/python3.10/dist-packages (from matplotlib!=3.6.1,>=3.4->seaborn) (1.4.5)\n",
            "Requirement already satisfied: packaging>=20.0 in /usr/local/lib/python3.10/dist-packages (from matplotlib!=3.6.1,>=3.4->seaborn) (24.1)\n",
            "Requirement already satisfied: pillow>=6.2.0 in /usr/local/lib/python3.10/dist-packages (from matplotlib!=3.6.1,>=3.4->seaborn) (9.4.0)\n",
            "Requirement already satisfied: pyparsing>=2.3.1 in /usr/local/lib/python3.10/dist-packages (from matplotlib!=3.6.1,>=3.4->seaborn) (3.1.2)\n",
            "Requirement already satisfied: python-dateutil>=2.7 in /usr/local/lib/python3.10/dist-packages (from matplotlib!=3.6.1,>=3.4->seaborn) (2.8.2)\n",
            "Requirement already satisfied: pytz>=2020.1 in /usr/local/lib/python3.10/dist-packages (from pandas>=1.2->seaborn) (2024.1)\n",
            "Requirement already satisfied: tzdata>=2022.1 in /usr/local/lib/python3.10/dist-packages (from pandas>=1.2->seaborn) (2024.1)\n",
            "Requirement already satisfied: six>=1.5 in /usr/local/lib/python3.10/dist-packages (from python-dateutil>=2.7->matplotlib!=3.6.1,>=3.4->seaborn) (1.16.0)\n"
          ]
        }
      ]
    },
    {
      "cell_type": "code",
      "execution_count": 62,
      "metadata": {
        "id": "yKI6rNtqfkpK"
      },
      "outputs": [],
      "source": [
        "#importing libraries\n",
        "import pandas as pd\n",
        "import numpy as np\n",
        "import matplotlib.pyplot as plt\n",
        "import seaborn as sns\n"
      ]
    },
    {
      "cell_type": "code",
      "source": [
        "from sklearn.feature_extraction.text import TfidfVectorizer\n",
        "from sklearn.metrics.pairwise import cosine_similarity\n",
        "import tensorflow as tf"
      ],
      "metadata": {
        "id": "ixVN4Da_gVIi"
      },
      "execution_count": 63,
      "outputs": []
    },
    {
      "cell_type": "code",
      "source": [
        "data = pd.read_csv(\"https://gist.githubusercontent.com/jaidevd/23aef12e9bf56c618c41/raw/c05e98672b8d52fa0cb94aad80f75eb78342e5d4/books_new.csv\")\n",
        "df= pd.DataFrame(data)\n",
        "df.head()\n"
      ],
      "metadata": {
        "colab": {
          "base_uri": "https://localhost:8080/",
          "height": 206
        },
        "outputId": "403ec475-6079-4483-c383-9296b617fd1c",
        "id": "LEmy9eqnrlki"
      },
      "execution_count": 64,
      "outputs": [
        {
          "output_type": "execute_result",
          "data": {
            "text/plain": [
              "                      Title            Author       Genre           SubGenre  \\\n",
              "0  Fundamentals of Wavelets  Goswami, Jaideva        tech  signal_processing   \n",
              "1                Data Smart     Foreman, John        tech       data_science   \n",
              "2  God Created the Integers  Hawking, Stephen        tech        mathematics   \n",
              "3         Superfreakonomics   Dubner, Stephen     science          economics   \n",
              "4               Orientalism      Said, Edward  nonfiction            history   \n",
              "\n",
              "   Height      Publisher  \n",
              "0     228          Wiley  \n",
              "1     235          Wiley  \n",
              "2     197        Penguin  \n",
              "3     179  HarperCollins  \n",
              "4     197        Penguin  "
            ],
            "text/html": [
              "\n",
              "  <div id=\"df-9b667fe6-e97b-4789-b8c1-d239775ed5aa\" class=\"colab-df-container\">\n",
              "    <div>\n",
              "<style scoped>\n",
              "    .dataframe tbody tr th:only-of-type {\n",
              "        vertical-align: middle;\n",
              "    }\n",
              "\n",
              "    .dataframe tbody tr th {\n",
              "        vertical-align: top;\n",
              "    }\n",
              "\n",
              "    .dataframe thead th {\n",
              "        text-align: right;\n",
              "    }\n",
              "</style>\n",
              "<table border=\"1\" class=\"dataframe\">\n",
              "  <thead>\n",
              "    <tr style=\"text-align: right;\">\n",
              "      <th></th>\n",
              "      <th>Title</th>\n",
              "      <th>Author</th>\n",
              "      <th>Genre</th>\n",
              "      <th>SubGenre</th>\n",
              "      <th>Height</th>\n",
              "      <th>Publisher</th>\n",
              "    </tr>\n",
              "  </thead>\n",
              "  <tbody>\n",
              "    <tr>\n",
              "      <th>0</th>\n",
              "      <td>Fundamentals of Wavelets</td>\n",
              "      <td>Goswami, Jaideva</td>\n",
              "      <td>tech</td>\n",
              "      <td>signal_processing</td>\n",
              "      <td>228</td>\n",
              "      <td>Wiley</td>\n",
              "    </tr>\n",
              "    <tr>\n",
              "      <th>1</th>\n",
              "      <td>Data Smart</td>\n",
              "      <td>Foreman, John</td>\n",
              "      <td>tech</td>\n",
              "      <td>data_science</td>\n",
              "      <td>235</td>\n",
              "      <td>Wiley</td>\n",
              "    </tr>\n",
              "    <tr>\n",
              "      <th>2</th>\n",
              "      <td>God Created the Integers</td>\n",
              "      <td>Hawking, Stephen</td>\n",
              "      <td>tech</td>\n",
              "      <td>mathematics</td>\n",
              "      <td>197</td>\n",
              "      <td>Penguin</td>\n",
              "    </tr>\n",
              "    <tr>\n",
              "      <th>3</th>\n",
              "      <td>Superfreakonomics</td>\n",
              "      <td>Dubner, Stephen</td>\n",
              "      <td>science</td>\n",
              "      <td>economics</td>\n",
              "      <td>179</td>\n",
              "      <td>HarperCollins</td>\n",
              "    </tr>\n",
              "    <tr>\n",
              "      <th>4</th>\n",
              "      <td>Orientalism</td>\n",
              "      <td>Said, Edward</td>\n",
              "      <td>nonfiction</td>\n",
              "      <td>history</td>\n",
              "      <td>197</td>\n",
              "      <td>Penguin</td>\n",
              "    </tr>\n",
              "  </tbody>\n",
              "</table>\n",
              "</div>\n",
              "    <div class=\"colab-df-buttons\">\n",
              "\n",
              "  <div class=\"colab-df-container\">\n",
              "    <button class=\"colab-df-convert\" onclick=\"convertToInteractive('df-9b667fe6-e97b-4789-b8c1-d239775ed5aa')\"\n",
              "            title=\"Convert this dataframe to an interactive table.\"\n",
              "            style=\"display:none;\">\n",
              "\n",
              "  <svg xmlns=\"http://www.w3.org/2000/svg\" height=\"24px\" viewBox=\"0 -960 960 960\">\n",
              "    <path d=\"M120-120v-720h720v720H120Zm60-500h600v-160H180v160Zm220 220h160v-160H400v160Zm0 220h160v-160H400v160ZM180-400h160v-160H180v160Zm440 0h160v-160H620v160ZM180-180h160v-160H180v160Zm440 0h160v-160H620v160Z\"/>\n",
              "  </svg>\n",
              "    </button>\n",
              "\n",
              "  <style>\n",
              "    .colab-df-container {\n",
              "      display:flex;\n",
              "      gap: 12px;\n",
              "    }\n",
              "\n",
              "    .colab-df-convert {\n",
              "      background-color: #E8F0FE;\n",
              "      border: none;\n",
              "      border-radius: 50%;\n",
              "      cursor: pointer;\n",
              "      display: none;\n",
              "      fill: #1967D2;\n",
              "      height: 32px;\n",
              "      padding: 0 0 0 0;\n",
              "      width: 32px;\n",
              "    }\n",
              "\n",
              "    .colab-df-convert:hover {\n",
              "      background-color: #E2EBFA;\n",
              "      box-shadow: 0px 1px 2px rgba(60, 64, 67, 0.3), 0px 1px 3px 1px rgba(60, 64, 67, 0.15);\n",
              "      fill: #174EA6;\n",
              "    }\n",
              "\n",
              "    .colab-df-buttons div {\n",
              "      margin-bottom: 4px;\n",
              "    }\n",
              "\n",
              "    [theme=dark] .colab-df-convert {\n",
              "      background-color: #3B4455;\n",
              "      fill: #D2E3FC;\n",
              "    }\n",
              "\n",
              "    [theme=dark] .colab-df-convert:hover {\n",
              "      background-color: #434B5C;\n",
              "      box-shadow: 0px 1px 3px 1px rgba(0, 0, 0, 0.15);\n",
              "      filter: drop-shadow(0px 1px 2px rgba(0, 0, 0, 0.3));\n",
              "      fill: #FFFFFF;\n",
              "    }\n",
              "  </style>\n",
              "\n",
              "    <script>\n",
              "      const buttonEl =\n",
              "        document.querySelector('#df-9b667fe6-e97b-4789-b8c1-d239775ed5aa button.colab-df-convert');\n",
              "      buttonEl.style.display =\n",
              "        google.colab.kernel.accessAllowed ? 'block' : 'none';\n",
              "\n",
              "      async function convertToInteractive(key) {\n",
              "        const element = document.querySelector('#df-9b667fe6-e97b-4789-b8c1-d239775ed5aa');\n",
              "        const dataTable =\n",
              "          await google.colab.kernel.invokeFunction('convertToInteractive',\n",
              "                                                    [key], {});\n",
              "        if (!dataTable) return;\n",
              "\n",
              "        const docLinkHtml = 'Like what you see? Visit the ' +\n",
              "          '<a target=\"_blank\" href=https://colab.research.google.com/notebooks/data_table.ipynb>data table notebook</a>'\n",
              "          + ' to learn more about interactive tables.';\n",
              "        element.innerHTML = '';\n",
              "        dataTable['output_type'] = 'display_data';\n",
              "        await google.colab.output.renderOutput(dataTable, element);\n",
              "        const docLink = document.createElement('div');\n",
              "        docLink.innerHTML = docLinkHtml;\n",
              "        element.appendChild(docLink);\n",
              "      }\n",
              "    </script>\n",
              "  </div>\n",
              "\n",
              "\n",
              "<div id=\"df-824f0fe1-fbc2-4726-9d13-b6f5015cb614\">\n",
              "  <button class=\"colab-df-quickchart\" onclick=\"quickchart('df-824f0fe1-fbc2-4726-9d13-b6f5015cb614')\"\n",
              "            title=\"Suggest charts\"\n",
              "            style=\"display:none;\">\n",
              "\n",
              "<svg xmlns=\"http://www.w3.org/2000/svg\" height=\"24px\"viewBox=\"0 0 24 24\"\n",
              "     width=\"24px\">\n",
              "    <g>\n",
              "        <path d=\"M19 3H5c-1.1 0-2 .9-2 2v14c0 1.1.9 2 2 2h14c1.1 0 2-.9 2-2V5c0-1.1-.9-2-2-2zM9 17H7v-7h2v7zm4 0h-2V7h2v10zm4 0h-2v-4h2v4z\"/>\n",
              "    </g>\n",
              "</svg>\n",
              "  </button>\n",
              "\n",
              "<style>\n",
              "  .colab-df-quickchart {\n",
              "      --bg-color: #E8F0FE;\n",
              "      --fill-color: #1967D2;\n",
              "      --hover-bg-color: #E2EBFA;\n",
              "      --hover-fill-color: #174EA6;\n",
              "      --disabled-fill-color: #AAA;\n",
              "      --disabled-bg-color: #DDD;\n",
              "  }\n",
              "\n",
              "  [theme=dark] .colab-df-quickchart {\n",
              "      --bg-color: #3B4455;\n",
              "      --fill-color: #D2E3FC;\n",
              "      --hover-bg-color: #434B5C;\n",
              "      --hover-fill-color: #FFFFFF;\n",
              "      --disabled-bg-color: #3B4455;\n",
              "      --disabled-fill-color: #666;\n",
              "  }\n",
              "\n",
              "  .colab-df-quickchart {\n",
              "    background-color: var(--bg-color);\n",
              "    border: none;\n",
              "    border-radius: 50%;\n",
              "    cursor: pointer;\n",
              "    display: none;\n",
              "    fill: var(--fill-color);\n",
              "    height: 32px;\n",
              "    padding: 0;\n",
              "    width: 32px;\n",
              "  }\n",
              "\n",
              "  .colab-df-quickchart:hover {\n",
              "    background-color: var(--hover-bg-color);\n",
              "    box-shadow: 0 1px 2px rgba(60, 64, 67, 0.3), 0 1px 3px 1px rgba(60, 64, 67, 0.15);\n",
              "    fill: var(--button-hover-fill-color);\n",
              "  }\n",
              "\n",
              "  .colab-df-quickchart-complete:disabled,\n",
              "  .colab-df-quickchart-complete:disabled:hover {\n",
              "    background-color: var(--disabled-bg-color);\n",
              "    fill: var(--disabled-fill-color);\n",
              "    box-shadow: none;\n",
              "  }\n",
              "\n",
              "  .colab-df-spinner {\n",
              "    border: 2px solid var(--fill-color);\n",
              "    border-color: transparent;\n",
              "    border-bottom-color: var(--fill-color);\n",
              "    animation:\n",
              "      spin 1s steps(1) infinite;\n",
              "  }\n",
              "\n",
              "  @keyframes spin {\n",
              "    0% {\n",
              "      border-color: transparent;\n",
              "      border-bottom-color: var(--fill-color);\n",
              "      border-left-color: var(--fill-color);\n",
              "    }\n",
              "    20% {\n",
              "      border-color: transparent;\n",
              "      border-left-color: var(--fill-color);\n",
              "      border-top-color: var(--fill-color);\n",
              "    }\n",
              "    30% {\n",
              "      border-color: transparent;\n",
              "      border-left-color: var(--fill-color);\n",
              "      border-top-color: var(--fill-color);\n",
              "      border-right-color: var(--fill-color);\n",
              "    }\n",
              "    40% {\n",
              "      border-color: transparent;\n",
              "      border-right-color: var(--fill-color);\n",
              "      border-top-color: var(--fill-color);\n",
              "    }\n",
              "    60% {\n",
              "      border-color: transparent;\n",
              "      border-right-color: var(--fill-color);\n",
              "    }\n",
              "    80% {\n",
              "      border-color: transparent;\n",
              "      border-right-color: var(--fill-color);\n",
              "      border-bottom-color: var(--fill-color);\n",
              "    }\n",
              "    90% {\n",
              "      border-color: transparent;\n",
              "      border-bottom-color: var(--fill-color);\n",
              "    }\n",
              "  }\n",
              "</style>\n",
              "\n",
              "  <script>\n",
              "    async function quickchart(key) {\n",
              "      const quickchartButtonEl =\n",
              "        document.querySelector('#' + key + ' button');\n",
              "      quickchartButtonEl.disabled = true;  // To prevent multiple clicks.\n",
              "      quickchartButtonEl.classList.add('colab-df-spinner');\n",
              "      try {\n",
              "        const charts = await google.colab.kernel.invokeFunction(\n",
              "            'suggestCharts', [key], {});\n",
              "      } catch (error) {\n",
              "        console.error('Error during call to suggestCharts:', error);\n",
              "      }\n",
              "      quickchartButtonEl.classList.remove('colab-df-spinner');\n",
              "      quickchartButtonEl.classList.add('colab-df-quickchart-complete');\n",
              "    }\n",
              "    (() => {\n",
              "      let quickchartButtonEl =\n",
              "        document.querySelector('#df-824f0fe1-fbc2-4726-9d13-b6f5015cb614 button');\n",
              "      quickchartButtonEl.style.display =\n",
              "        google.colab.kernel.accessAllowed ? 'block' : 'none';\n",
              "    })();\n",
              "  </script>\n",
              "</div>\n",
              "\n",
              "    </div>\n",
              "  </div>\n"
            ],
            "application/vnd.google.colaboratory.intrinsic+json": {
              "type": "dataframe",
              "variable_name": "df",
              "summary": "{\n  \"name\": \"df\",\n  \"rows\": 211,\n  \"fields\": [\n    {\n      \"column\": \"Title\",\n      \"properties\": {\n        \"dtype\": \"string\",\n        \"num_unique_values\": 210,\n        \"samples\": [\n          \"Wealth of Nations, The\",\n          \"Pointers in C\",\n          \"Great Indian Novel, The\"\n        ],\n        \"semantic_type\": \"\",\n        \"description\": \"\"\n      }\n    },\n    {\n      \"column\": \"Author\",\n      \"properties\": {\n        \"dtype\": \"string\",\n        \"num_unique_values\": 129,\n        \"samples\": [\n          \"Taub, Schilling\",\n          \"Steinbeck, John\",\n          \"Heisenberg, Werner\"\n        ],\n        \"semantic_type\": \"\",\n        \"description\": \"\"\n      }\n    },\n    {\n      \"column\": \"Genre\",\n      \"properties\": {\n        \"dtype\": \"category\",\n        \"num_unique_values\": 5,\n        \"samples\": [\n          \"science\",\n          \"philosophy\",\n          \"nonfiction\"\n        ],\n        \"semantic_type\": \"\",\n        \"description\": \"\"\n      }\n    },\n    {\n      \"column\": \"SubGenre\",\n      \"properties\": {\n        \"dtype\": \"category\",\n        \"num_unique_values\": 22,\n        \"samples\": [\n          \"signal_processing\",\n          \"trivia\",\n          \"novel\"\n        ],\n        \"semantic_type\": \"\",\n        \"description\": \"\"\n      }\n    },\n    {\n      \"column\": \"Height\",\n      \"properties\": {\n        \"dtype\": \"number\",\n        \"std\": 26,\n        \"min\": 160,\n        \"max\": 283,\n        \"num_unique_values\": 65,\n        \"samples\": [\n          259,\n          224,\n          228\n        ],\n        \"semantic_type\": \"\",\n        \"description\": \"\"\n      }\n    },\n    {\n      \"column\": \"Publisher\",\n      \"properties\": {\n        \"dtype\": \"category\",\n        \"num_unique_values\": 33,\n        \"samples\": [\n          \"Fontana\",\n          \"Hyperion\",\n          \"FreePress\"\n        ],\n        \"semantic_type\": \"\",\n        \"description\": \"\"\n      }\n    }\n  ]\n}"
            }
          },
          "metadata": {},
          "execution_count": 64
        }
      ]
    },
    {
      "cell_type": "code",
      "source": [
        "df['Author'] = df['Author'].str.replace(',', '')\n",
        "df['Author'] = df['Author'].str.replace(' ', '')\n",
        "df['SubGenre'] = df['SubGenre'].str.replace('_', '')\n",
        "print(df)\n"
      ],
      "metadata": {
        "colab": {
          "base_uri": "https://localhost:8080/"
        },
        "id": "ErqlQFybeybC",
        "outputId": "51513fc0-453e-47ef-ec0a-a8afa30755c2"
      },
      "execution_count": 65,
      "outputs": [
        {
          "output_type": "stream",
          "name": "stdout",
          "text": [
            "                            Title            Author       Genre  \\\n",
            "0        Fundamentals of Wavelets    GoswamiJaideva        tech   \n",
            "1                      Data Smart       ForemanJohn        tech   \n",
            "2        God Created the Integers    HawkingStephen        tech   \n",
            "3               Superfreakonomics     DubnerStephen     science   \n",
            "4                     Orientalism        SaidEdward  nonfiction   \n",
            "..                            ...               ...         ...   \n",
            "206      Structure and Randomness        TaoTerence     science   \n",
            "207  Image Processing with MATLAB       EddinsSteve        tech   \n",
            "208                   Animal Farm      OrwellGeorge     fiction   \n",
            "209                    Idiot, The  DostoevskyFyodor     fiction   \n",
            "210            Christmas Carol, A    DickensCharles     fiction   \n",
            "\n",
            "             SubGenre  Height      Publisher  \n",
            "0    signalprocessing     228          Wiley  \n",
            "1         datascience     235          Wiley  \n",
            "2         mathematics     197        Penguin  \n",
            "3           economics     179  HarperCollins  \n",
            "4             history     197        Penguin  \n",
            "..                ...     ...            ...  \n",
            "206       mathematics     252            NaN  \n",
            "207  signalprocessing     241            NaN  \n",
            "208           classic     180            NaN  \n",
            "209           classic     197            NaN  \n",
            "210           classic     196            NaN  \n",
            "\n",
            "[211 rows x 6 columns]\n"
          ]
        }
      ]
    },
    {
      "cell_type": "code",
      "source": [
        "df['Publisher'].fillna(\"\", inplace=True)\n",
        "df['Author'].fillna(\"\", inplace=True)\n",
        "print(df)"
      ],
      "metadata": {
        "colab": {
          "base_uri": "https://localhost:8080/"
        },
        "id": "gA3Wuh9iPem0",
        "outputId": "49e107df-1f76-4d93-a496-225f94510105"
      },
      "execution_count": 66,
      "outputs": [
        {
          "output_type": "stream",
          "name": "stdout",
          "text": [
            "                            Title            Author       Genre  \\\n",
            "0        Fundamentals of Wavelets    GoswamiJaideva        tech   \n",
            "1                      Data Smart       ForemanJohn        tech   \n",
            "2        God Created the Integers    HawkingStephen        tech   \n",
            "3               Superfreakonomics     DubnerStephen     science   \n",
            "4                     Orientalism        SaidEdward  nonfiction   \n",
            "..                            ...               ...         ...   \n",
            "206      Structure and Randomness        TaoTerence     science   \n",
            "207  Image Processing with MATLAB       EddinsSteve        tech   \n",
            "208                   Animal Farm      OrwellGeorge     fiction   \n",
            "209                    Idiot, The  DostoevskyFyodor     fiction   \n",
            "210            Christmas Carol, A    DickensCharles     fiction   \n",
            "\n",
            "             SubGenre  Height      Publisher  \n",
            "0    signalprocessing     228          Wiley  \n",
            "1         datascience     235          Wiley  \n",
            "2         mathematics     197        Penguin  \n",
            "3           economics     179  HarperCollins  \n",
            "4             history     197        Penguin  \n",
            "..                ...     ...            ...  \n",
            "206       mathematics     252                 \n",
            "207  signalprocessing     241                 \n",
            "208           classic     180                 \n",
            "209           classic     197                 \n",
            "210           classic     196                 \n",
            "\n",
            "[211 rows x 6 columns]\n"
          ]
        }
      ]
    },
    {
      "cell_type": "code",
      "source": [
        "df['Author']=df['Author']+\" \"+df['Genre']+\" \"+df['SubGenre']+\" \"+df['Publisher']\n",
        "print(df)\n",
        "df['Author']"
      ],
      "metadata": {
        "colab": {
          "base_uri": "https://localhost:8080/",
          "height": 1000
        },
        "id": "PVbOcNO-ya5t",
        "outputId": "a4ff98a8-2094-4ce3-d6f1-edcd84cce370"
      },
      "execution_count": 67,
      "outputs": [
        {
          "output_type": "stream",
          "name": "stdout",
          "text": [
            "                            Title  \\\n",
            "0        Fundamentals of Wavelets   \n",
            "1                      Data Smart   \n",
            "2        God Created the Integers   \n",
            "3               Superfreakonomics   \n",
            "4                     Orientalism   \n",
            "..                            ...   \n",
            "206      Structure and Randomness   \n",
            "207  Image Processing with MATLAB   \n",
            "208                   Animal Farm   \n",
            "209                    Idiot, The   \n",
            "210            Christmas Carol, A   \n",
            "\n",
            "                                            Author       Genre  \\\n",
            "0       GoswamiJaideva tech signalprocessing Wiley        tech   \n",
            "1               ForemanJohn tech datascience Wiley        tech   \n",
            "2          HawkingStephen tech mathematics Penguin        tech   \n",
            "3    DubnerStephen science economics HarperCollins     science   \n",
            "4            SaidEdward nonfiction history Penguin  nonfiction   \n",
            "..                                             ...         ...   \n",
            "206                TaoTerence science mathematics      science   \n",
            "207             EddinsSteve tech signalprocessing         tech   \n",
            "208                  OrwellGeorge fiction classic      fiction   \n",
            "209              DostoevskyFyodor fiction classic      fiction   \n",
            "210                DickensCharles fiction classic      fiction   \n",
            "\n",
            "             SubGenre  Height      Publisher  \n",
            "0    signalprocessing     228          Wiley  \n",
            "1         datascience     235          Wiley  \n",
            "2         mathematics     197        Penguin  \n",
            "3           economics     179  HarperCollins  \n",
            "4             history     197        Penguin  \n",
            "..                ...     ...            ...  \n",
            "206       mathematics     252                 \n",
            "207  signalprocessing     241                 \n",
            "208           classic     180                 \n",
            "209           classic     197                 \n",
            "210           classic     196                 \n",
            "\n",
            "[211 rows x 6 columns]\n"
          ]
        },
        {
          "output_type": "execute_result",
          "data": {
            "text/plain": [
              "0         GoswamiJaideva tech signalprocessing Wiley\n",
              "1                 ForemanJohn tech datascience Wiley\n",
              "2            HawkingStephen tech mathematics Penguin\n",
              "3      DubnerStephen science economics HarperCollins\n",
              "4              SaidEdward nonfiction history Penguin\n",
              "                           ...                      \n",
              "206                  TaoTerence science mathematics \n",
              "207               EddinsSteve tech signalprocessing \n",
              "208                    OrwellGeorge fiction classic \n",
              "209                DostoevskyFyodor fiction classic \n",
              "210                  DickensCharles fiction classic \n",
              "Name: Author, Length: 211, dtype: object"
            ],
            "text/html": [
              "<div>\n",
              "<style scoped>\n",
              "    .dataframe tbody tr th:only-of-type {\n",
              "        vertical-align: middle;\n",
              "    }\n",
              "\n",
              "    .dataframe tbody tr th {\n",
              "        vertical-align: top;\n",
              "    }\n",
              "\n",
              "    .dataframe thead th {\n",
              "        text-align: right;\n",
              "    }\n",
              "</style>\n",
              "<table border=\"1\" class=\"dataframe\">\n",
              "  <thead>\n",
              "    <tr style=\"text-align: right;\">\n",
              "      <th></th>\n",
              "      <th>Author</th>\n",
              "    </tr>\n",
              "  </thead>\n",
              "  <tbody>\n",
              "    <tr>\n",
              "      <th>0</th>\n",
              "      <td>GoswamiJaideva tech signalprocessing Wiley</td>\n",
              "    </tr>\n",
              "    <tr>\n",
              "      <th>1</th>\n",
              "      <td>ForemanJohn tech datascience Wiley</td>\n",
              "    </tr>\n",
              "    <tr>\n",
              "      <th>2</th>\n",
              "      <td>HawkingStephen tech mathematics Penguin</td>\n",
              "    </tr>\n",
              "    <tr>\n",
              "      <th>3</th>\n",
              "      <td>DubnerStephen science economics HarperCollins</td>\n",
              "    </tr>\n",
              "    <tr>\n",
              "      <th>4</th>\n",
              "      <td>SaidEdward nonfiction history Penguin</td>\n",
              "    </tr>\n",
              "    <tr>\n",
              "      <th>...</th>\n",
              "      <td>...</td>\n",
              "    </tr>\n",
              "    <tr>\n",
              "      <th>206</th>\n",
              "      <td>TaoTerence science mathematics</td>\n",
              "    </tr>\n",
              "    <tr>\n",
              "      <th>207</th>\n",
              "      <td>EddinsSteve tech signalprocessing</td>\n",
              "    </tr>\n",
              "    <tr>\n",
              "      <th>208</th>\n",
              "      <td>OrwellGeorge fiction classic</td>\n",
              "    </tr>\n",
              "    <tr>\n",
              "      <th>209</th>\n",
              "      <td>DostoevskyFyodor fiction classic</td>\n",
              "    </tr>\n",
              "    <tr>\n",
              "      <th>210</th>\n",
              "      <td>DickensCharles fiction classic</td>\n",
              "    </tr>\n",
              "  </tbody>\n",
              "</table>\n",
              "<p>211 rows × 1 columns</p>\n",
              "</div><br><label><b>dtype:</b> object</label>"
            ]
          },
          "metadata": {},
          "execution_count": 67
        }
      ]
    },
    {
      "cell_type": "code",
      "source": [
        "new_df= df[['Title','Author']]\n",
        "print(new_df)"
      ],
      "metadata": {
        "colab": {
          "base_uri": "https://localhost:8080/"
        },
        "id": "W-jsnJ1aP-SW",
        "outputId": "b9fc30dc-4f76-4c81-bae0-13b339db65da"
      },
      "execution_count": 68,
      "outputs": [
        {
          "output_type": "stream",
          "name": "stdout",
          "text": [
            "                            Title  \\\n",
            "0        Fundamentals of Wavelets   \n",
            "1                      Data Smart   \n",
            "2        God Created the Integers   \n",
            "3               Superfreakonomics   \n",
            "4                     Orientalism   \n",
            "..                            ...   \n",
            "206      Structure and Randomness   \n",
            "207  Image Processing with MATLAB   \n",
            "208                   Animal Farm   \n",
            "209                    Idiot, The   \n",
            "210            Christmas Carol, A   \n",
            "\n",
            "                                            Author  \n",
            "0       GoswamiJaideva tech signalprocessing Wiley  \n",
            "1               ForemanJohn tech datascience Wiley  \n",
            "2          HawkingStephen tech mathematics Penguin  \n",
            "3    DubnerStephen science economics HarperCollins  \n",
            "4            SaidEdward nonfiction history Penguin  \n",
            "..                                             ...  \n",
            "206                TaoTerence science mathematics   \n",
            "207             EddinsSteve tech signalprocessing   \n",
            "208                  OrwellGeorge fiction classic   \n",
            "209              DostoevskyFyodor fiction classic   \n",
            "210                DickensCharles fiction classic   \n",
            "\n",
            "[211 rows x 2 columns]\n"
          ]
        }
      ]
    },
    {
      "cell_type": "code",
      "source": [
        "new_df['Author'][0]"
      ],
      "metadata": {
        "colab": {
          "base_uri": "https://localhost:8080/",
          "height": 35
        },
        "id": "1uYgOtc0QagY",
        "outputId": "21ee8911-6c25-4b96-86b2-8ba84a5d7636"
      },
      "execution_count": 54,
      "outputs": [
        {
          "output_type": "execute_result",
          "data": {
            "text/plain": [
              "'GoswamiJaideva tech signalprocessing Wiley'"
            ],
            "application/vnd.google.colaboratory.intrinsic+json": {
              "type": "string"
            }
          },
          "metadata": {},
          "execution_count": 54
        }
      ]
    },
    {
      "cell_type": "code",
      "source": [
        "new_df.loc[:,'Author']=new_df['Author'].apply(lambda x:x.lower())\n",
        "print(new_df)"
      ],
      "metadata": {
        "colab": {
          "base_uri": "https://localhost:8080/"
        },
        "id": "wo9hbrNoUa2k",
        "outputId": "39e8e494-94e9-4d09-c4fe-51fa34cfcf7c"
      },
      "execution_count": 73,
      "outputs": [
        {
          "output_type": "stream",
          "name": "stdout",
          "text": [
            "                            Title  \\\n",
            "0        Fundamentals of Wavelets   \n",
            "1                      Data Smart   \n",
            "2        God Created the Integers   \n",
            "3               Superfreakonomics   \n",
            "4                     Orientalism   \n",
            "..                            ...   \n",
            "206      Structure and Randomness   \n",
            "207  Image Processing with MATLAB   \n",
            "208                   Animal Farm   \n",
            "209                    Idiot, The   \n",
            "210            Christmas Carol, A   \n",
            "\n",
            "                                            Author  \n",
            "0       goswamijaideva tech signalprocessing wiley  \n",
            "1               foremanjohn tech datascience wiley  \n",
            "2          hawkingstephen tech mathematics penguin  \n",
            "3    dubnerstephen science economics harpercollins  \n",
            "4            saidedward nonfiction history penguin  \n",
            "..                                             ...  \n",
            "206                taoterence science mathematics   \n",
            "207             eddinssteve tech signalprocessing   \n",
            "208                  orwellgeorge fiction classic   \n",
            "209              dostoevskyfyodor fiction classic   \n",
            "210                dickenscharles fiction classic   \n",
            "\n",
            "[211 rows x 2 columns]\n"
          ]
        }
      ]
    },
    {
      "cell_type": "code",
      "source": [
        "import nltk\n",
        "from nltk.stem.porter import PorterStemmer\n",
        "ps = PorterStemmer()\n",
        "def stem(text):\n",
        "    y = []\n",
        "    for i in text.split():\n",
        "        y.append(ps.stem(i))\n",
        "    return \" \".join(y)\n",
        "\n",
        "new_df['Author'].apply(stem)"
      ],
      "metadata": {
        "colab": {
          "base_uri": "https://localhost:8080/",
          "height": 458
        },
        "id": "pFMOg7-Wh6Pq",
        "outputId": "946e3138-edb2-44d0-c624-d8122919d62d"
      },
      "execution_count": 78,
      "outputs": [
        {
          "output_type": "execute_result",
          "data": {
            "text/plain": [
              "0       goswamijaideva tech signalprocess wiley\n",
              "1                foremanjohn tech datasci wiley\n",
              "2          hawkingstephen tech mathemat penguin\n",
              "3      dubnerstephen scienc econom harpercollin\n",
              "4            saidedward nonfict histori penguin\n",
              "                         ...                   \n",
              "206                      taoter scienc mathemat\n",
              "207               eddinsstev tech signalprocess\n",
              "208                 orwellgeorg fiction classic\n",
              "209            dostoevskyfyodor fiction classic\n",
              "210                dickenscharl fiction classic\n",
              "Name: Author, Length: 211, dtype: object"
            ],
            "text/html": [
              "<div>\n",
              "<style scoped>\n",
              "    .dataframe tbody tr th:only-of-type {\n",
              "        vertical-align: middle;\n",
              "    }\n",
              "\n",
              "    .dataframe tbody tr th {\n",
              "        vertical-align: top;\n",
              "    }\n",
              "\n",
              "    .dataframe thead th {\n",
              "        text-align: right;\n",
              "    }\n",
              "</style>\n",
              "<table border=\"1\" class=\"dataframe\">\n",
              "  <thead>\n",
              "    <tr style=\"text-align: right;\">\n",
              "      <th></th>\n",
              "      <th>Author</th>\n",
              "    </tr>\n",
              "  </thead>\n",
              "  <tbody>\n",
              "    <tr>\n",
              "      <th>0</th>\n",
              "      <td>goswamijaideva tech signalprocess wiley</td>\n",
              "    </tr>\n",
              "    <tr>\n",
              "      <th>1</th>\n",
              "      <td>foremanjohn tech datasci wiley</td>\n",
              "    </tr>\n",
              "    <tr>\n",
              "      <th>2</th>\n",
              "      <td>hawkingstephen tech mathemat penguin</td>\n",
              "    </tr>\n",
              "    <tr>\n",
              "      <th>3</th>\n",
              "      <td>dubnerstephen scienc econom harpercollin</td>\n",
              "    </tr>\n",
              "    <tr>\n",
              "      <th>4</th>\n",
              "      <td>saidedward nonfict histori penguin</td>\n",
              "    </tr>\n",
              "    <tr>\n",
              "      <th>...</th>\n",
              "      <td>...</td>\n",
              "    </tr>\n",
              "    <tr>\n",
              "      <th>206</th>\n",
              "      <td>taoter scienc mathemat</td>\n",
              "    </tr>\n",
              "    <tr>\n",
              "      <th>207</th>\n",
              "      <td>eddinsstev tech signalprocess</td>\n",
              "    </tr>\n",
              "    <tr>\n",
              "      <th>208</th>\n",
              "      <td>orwellgeorg fiction classic</td>\n",
              "    </tr>\n",
              "    <tr>\n",
              "      <th>209</th>\n",
              "      <td>dostoevskyfyodor fiction classic</td>\n",
              "    </tr>\n",
              "    <tr>\n",
              "      <th>210</th>\n",
              "      <td>dickenscharl fiction classic</td>\n",
              "    </tr>\n",
              "  </tbody>\n",
              "</table>\n",
              "<p>211 rows × 1 columns</p>\n",
              "</div><br><label><b>dtype:</b> object</label>"
            ]
          },
          "metadata": {},
          "execution_count": 78
        }
      ]
    },
    {
      "cell_type": "code",
      "source": [
        "from sklearn.feature_extraction.text import CountVectorizer\n",
        "cv = CountVectorizer(max_features=10000,stop_words='english')\n",
        "vector = cv.fit_transform(new_df['Author']).toarray()\n",
        "print(vector)"
      ],
      "metadata": {
        "colab": {
          "base_uri": "https://localhost:8080/"
        },
        "id": "nuW2B2UMVTg4",
        "outputId": "168eb37d-cc8e-4790-d860-a1014add3bfc"
      },
      "execution_count": 79,
      "outputs": [
        {
          "output_type": "stream",
          "name": "stdout",
          "text": [
            "[[0 0 0 ... 0 0 0]\n",
            " [0 0 0 ... 0 0 0]\n",
            " [0 0 0 ... 0 0 0]\n",
            " ...\n",
            " [0 0 0 ... 0 0 0]\n",
            " [0 0 0 ... 0 0 0]\n",
            " [0 0 0 ... 0 0 0]]\n"
          ]
        }
      ]
    },
    {
      "cell_type": "code",
      "source": [
        "vector[0]"
      ],
      "metadata": {
        "colab": {
          "base_uri": "https://localhost:8080/"
        },
        "id": "JaLjkbHohbwK",
        "outputId": "cb2df450-fc5c-49d4-b612-d5e63248f6ba"
      },
      "execution_count": 80,
      "outputs": [
        {
          "output_type": "execute_result",
          "data": {
            "text/plain": [
              "array([0, 0, 0, 0, 0, 0, 0, 0, 0, 0, 0, 0, 0, 0, 0, 0, 0, 0, 0, 0, 0, 0,\n",
              "       0, 0, 0, 0, 0, 0, 0, 0, 0, 0, 0, 0, 0, 0, 0, 0, 0, 0, 0, 0, 0, 0,\n",
              "       0, 0, 0, 0, 0, 0, 0, 0, 0, 0, 0, 0, 0, 0, 0, 0, 0, 0, 0, 0, 0, 0,\n",
              "       1, 0, 0, 0, 0, 0, 0, 0, 0, 0, 0, 0, 0, 0, 0, 0, 0, 0, 0, 0, 0, 0,\n",
              "       0, 0, 0, 0, 0, 0, 0, 0, 0, 0, 0, 0, 0, 0, 0, 0, 0, 0, 0, 0, 0, 0,\n",
              "       0, 0, 0, 0, 0, 0, 0, 0, 0, 0, 0, 0, 0, 0, 0, 0, 0, 0, 0, 0, 0, 0,\n",
              "       0, 0, 0, 0, 0, 0, 0, 0, 0, 0, 0, 0, 0, 0, 0, 0, 0, 0, 0, 0, 0, 0,\n",
              "       0, 0, 0, 0, 1, 0, 0, 0, 0, 0, 0, 0, 0, 0, 0, 0, 0, 0, 1, 0, 0, 0,\n",
              "       0, 0, 0, 0, 0, 0, 0, 0, 0, 0, 0, 0, 1, 0, 0, 0])"
            ]
          },
          "metadata": {},
          "execution_count": 80
        }
      ]
    },
    {
      "cell_type": "code",
      "source": [
        "cv.get_feature_names_out()"
      ],
      "metadata": {
        "colab": {
          "base_uri": "https://localhost:8080/"
        },
        "id": "fPRLl_XVhrU6",
        "outputId": "bb97f02c-e43e-4b34-b90e-a120dc2af0ee"
      },
      "execution_count": 82,
      "outputs": [
        {
          "output_type": "execute_result",
          "data": {
            "text/plain": [
              "array(['ackroydpeter', 'aczelamir', 'anthology', 'apress',\n",
              "       'archerjeffery', 'autobiography', 'bachrichard', 'baz', 'bbc',\n",
              "       'bellet', 'blackswan', 'bodanisdavid', 'bodley', 'bradskygary',\n",
              "       'braithwaite', 'browndan', 'camusalbert', 'caprafritjof',\n",
              "       'classic', 'comic', 'computerscience', 'conwaydrew', 'corbettjim',\n",
              "       'cormenthomas', 'crc', 'crichtonmichael', 'dalrymplewilliam',\n",
              "       'datascience', 'dawkinsrichard', 'debsiddhartha', 'dell',\n",
              "       'deshpandepl', 'deshpandesunita', 'devlinkeith', 'dickenscharles',\n",
              "       'dickinsonpeter', 'dostoevskyfyodor', 'downeyallen',\n",
              "       'doylearthurconan', 'druckerpeter', 'dubnerstephen', 'dudahart',\n",
              "       'durantwill', 'durrellgerald', 'dylanbob', 'economics',\n",
              "       'eddinssteve', 'education', 'elsevier', 'eralyabraham',\n",
              "       'feynmanrichard', 'fiction', 'fiskrobert', 'follettken', 'fontana',\n",
              "       'foremanjohn', 'forsythdavid', 'forsythfrederick', 'francosergio',\n",
              "       'freepress', 'friedmanthomas', 'gardnerearlestanley', 'gargsanjay',\n",
              "       'ghoshamitav', 'gleickjames', 'gordonrichard', 'goswamijaideva',\n",
              "       'greenew', 'grishamjohn', 'guptamadan', 'hall',\n",
              "       'hansberrylorraine', 'harpercollins', 'harrissam',\n",
              "       'hawkingstephen', 'haykinsimon', 'hba', 'head', 'heisenbergwerner',\n",
              "       'hellerjoseph', 'hemingwayernest', 'highstakes', 'history',\n",
              "       'hitleradolf', 'house', 'hugovictor', 'huntingtonsamuel',\n",
              "       'huxleyaldous', 'hyperion', 'iacocalee', 'jaico', 'janertphillip',\n",
              "       'kafkafrank', 'kalevp', 'kanetkaryashwant', 'kautiyla',\n",
              "       'konnikovamaria', 'lapierredominique', 'larssonsteig', 'legal',\n",
              "       'machiavelli', 'mathematics', 'maughamwilliams', 'mauj',\n",
              "       'mckinneywes', 'menonvp', 'misc', 'mit', 'mlodinowleonard',\n",
              "       'mohanned', 'naipaulv', 'naipaulvs', 'nariman', 'nayarkuldip',\n",
              "       'nehrujawaharlal', 'nisbetrobert', 'nonfiction', 'novel',\n",
              "       'objectivism', 'oramandy', 'orient', 'orwellgeorge', 'palkhivala',\n",
              "       'pan', 'pauschrandy', 'pearson', 'penguin', 'philosophy',\n",
              "       'physics', 'picador', 'pirsigrobert', 'pocket', 'poeedgarallen',\n",
              "       'poetry', 'politics', 'prattjohn', 'prentice', 'press',\n",
              "       'psychology', 'randayn', 'random', 'ranjansudhanshu',\n",
              "       'rashidmuhammad', 'raymonderic', 'reilly', 'routledge',\n",
              "       'rowlingjk', 'rupa', 'russellbertrand', 'rutherfordalex',\n",
              "       'sagancarl', 'saidedward', 'sassoonjean', 'schuster', 'science',\n",
              "       'sebastiangutierrez', 'senamartya', 'shihfrank',\n",
              "       'signalprocessing', 'silvernate', 'simon', 'singhsimon',\n",
              "       'smithadam', 'sorabjee', 'springer', 'steinbeckjohn',\n",
              "       'stonieralfred', 'stroudjonathan', 'sussmangerald',\n",
              "       'tanenbaumandrew', 'taoterence', 'taubschilling', 'tech',\n",
              "       'tharoorshashi', 'thomasjoy', 'tmh', 'transworld', 'trivia',\n",
              "       'vapnikvladimir', 'various', 'vernejules', 'vikas',\n",
              "       'villanicedric', 'vintage', 'vonnegutkurt', 'wellsh', 'wellshg',\n",
              "       'westmorris', 'wiley', 'woodwardbob', 'zaidihussain',\n",
              "       'zoharmichael'], dtype=object)"
            ]
          },
          "metadata": {},
          "execution_count": 82
        }
      ]
    },
    {
      "cell_type": "code",
      "source": [
        "from sklearn.metrics.pairwise import cosine_similarity\n",
        "similarity = cosine_similarity(vector)\n",
        "print(similarity)"
      ],
      "metadata": {
        "colab": {
          "base_uri": "https://localhost:8080/"
        },
        "id": "vLeagZjWj5P1",
        "outputId": "2e9cd5e4-636d-406e-9da0-5ef5218a3b83"
      },
      "execution_count": 83,
      "outputs": [
        {
          "output_type": "stream",
          "name": "stdout",
          "text": [
            "[[1.         0.5        0.25       ... 0.         0.         0.        ]\n",
            " [0.5        1.         0.25       ... 0.         0.         0.        ]\n",
            " [0.25       0.25       1.         ... 0.         0.         0.        ]\n",
            " ...\n",
            " [0.         0.         0.         ... 1.         0.66666667 0.66666667]\n",
            " [0.         0.         0.         ... 0.66666667 1.         0.66666667]\n",
            " [0.         0.         0.         ... 0.66666667 0.66666667 1.        ]]\n"
          ]
        }
      ]
    },
    {
      "cell_type": "code",
      "source": [
        "def recommend(book):\n",
        "    index = new_df[new_df['Title'] == book].index[0]\n",
        "    distances = sorted(list(enumerate(similarity[index])),reverse=True,key = lambda x: x[1])\n",
        "    for i in distances[1:6]:\n",
        "        print(new_df.iloc[i[0]].Title)"
      ],
      "metadata": {
        "id": "itfmYcwSoAkj"
      },
      "execution_count": 84,
      "outputs": []
    },
    {
      "cell_type": "markdown",
      "source": [],
      "metadata": {
        "id": "UFPUzZmwo5Y-"
      }
    },
    {
      "cell_type": "code",
      "source": [
        "recommend('Animal Farm')"
      ],
      "metadata": {
        "colab": {
          "base_uri": "https://localhost:8080/"
        },
        "id": "7NDRXPQTpPvX",
        "outputId": "28b4bee6-6f9d-4db2-ab24-f15d3ad681e2"
      },
      "execution_count": 88,
      "outputs": [
        {
          "output_type": "stream",
          "name": "stdout",
          "text": [
            "World's Greatest Short Stories, The\n",
            "Phantom of Manhattan, The\n",
            "Selected Short Stories\n",
            "Moon and Sixpence, The\n",
            "Grapes of Wrath, The\n"
          ]
        }
      ]
    },
    {
      "cell_type": "code",
      "source": [
        "pickle.dump(new_df,open('book_list.pkl','wb'))\n",
        "pickle.dump(similarity,open('similarity.pkl','wb'))"
      ],
      "metadata": {
        "id": "41JFFSKhwOQs"
      },
      "execution_count": 91,
      "outputs": []
    },
    {
      "cell_type": "code",
      "source": [
        "import pickle"
      ],
      "metadata": {
        "id": "IVJEuF-nwiR8"
      },
      "execution_count": 90,
      "outputs": []
    }
  ]
}